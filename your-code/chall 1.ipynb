{
 "cells": [
  {
   "cell_type": "code",
   "execution_count": 18,
   "metadata": {},
   "outputs": [
    {
     "name": "stdout",
     "output_type": "stream",
     "text": [
      "Welcome to this calculator! \n",
      " It can add and subtract whole numbers from zero to five\n",
      "Please choose your first number (zero to five): one\n",
      "What do you want to do? plus or minus: minus\n",
      "Please choose your second number (zero to five): one\n",
      "one minus one equals zero\n",
      "Thanks for using this calculator, goodbye :)\n"
     ]
    }
   ],
   "source": [
    "\"\"\"\n",
    "This is a dumb calculator that can add and subtract whole numbers from zero to five.\n",
    "When you run the code, you are prompted to enter two numbers (in the form of English\n",
    "word instead of number) and the operator sign (also in the form of English word).\n",
    "The code will perform the calculation and give the result if your input is what it\n",
    "expects.\n",
    "\n",
    "The code is very long and messy. Refactor it according to what you have learned about\n",
    "code simplicity and efficiency.\n",
    "\"\"\"\n",
    "\n",
    "print('Welcome to this calculator! \\n It can add and subtract whole numbers from zero to five')\n",
    "a = input('Please choose your first number (zero to five): ')\n",
    "b = input('What do you want to do? plus or minus: ')\n",
    "c = input('Please choose your second number (zero to five): ')\n",
    "\n",
    "words_nums_dicts = {\n",
    "    'zero': 0,\n",
    "    'one': 1,\n",
    "    'two': 2,\n",
    "    'three': 3,\n",
    "    'four': 4,\n",
    "    'five': 5,\n",
    "    'plus': '+',\n",
    "    'minus': '-',\n",
    "    0 : 'zero',\n",
    "    1 : 'one',\n",
    "    2 : 'two',\n",
    "    3 : 'three',\n",
    "    4 : 'four',\n",
    "    5 : 'five',\n",
    "    6 : 'six',\n",
    "    7 : 'seven',\n",
    "    8 : 'eight',\n",
    "    9 : 'nine',\n",
    "    10 : 'ten'\n",
    "}\n",
    "\n",
    "if a in words_nums_dicts and b in words_nums_dicts and c in words_nums_dicts:\n",
    "    an = words_nums_dicts[a]\n",
    "    cn = words_nums_dicts[c]\n",
    "    if b == 'plus':\n",
    "        ansplus = an + cn\n",
    "        ansplusword = words_nums_dicts[ansplus]        \n",
    "        print('%s plus %s equals %s' % (a, c, ansplusword))\n",
    "    elif b == 'minus':\n",
    "        ansminus = an - cn\n",
    "        ansminusword = words_nums_dicts[ansminus]  \n",
    "        print('%s minus %s equals %s' % (a, c, ansminusword))\n",
    "    else:\n",
    "        print('Error')\n",
    "else:\n",
    "    print(\"I am not able to answer this question. Check your input.\")\n",
    "\n",
    "print(\"Thanks for using this calculator, goodbye :)\")\n"
   ]
  }
 ],
 "metadata": {
  "kernelspec": {
   "display_name": "Python 3",
   "language": "python",
   "name": "python3"
  },
  "language_info": {
   "codemirror_mode": {
    "name": "ipython",
    "version": 3
   },
   "file_extension": ".py",
   "mimetype": "text/x-python",
   "name": "python",
   "nbconvert_exporter": "python",
   "pygments_lexer": "ipython3",
   "version": "3.7.3"
  }
 },
 "nbformat": 4,
 "nbformat_minor": 2
}
